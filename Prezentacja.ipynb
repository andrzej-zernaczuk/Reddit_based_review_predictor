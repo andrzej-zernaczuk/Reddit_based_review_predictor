{
 "cells": [
  {
   "cell_type": "markdown",
   "id": "709ee216-75b9-4069-8d42-3a805188d212",
   "metadata": {},
   "source": [
    "# Przewidywanie ocen filmów na podstawie analizy sentymentu komentarzy na portalu Reddit\n",
    "\n",
    "__Autorzy__: Jakub Wujec, Andrzej Żernaczuk  \n",
    "__github__: https://github.com/kuba1302/Reddit_based_review_predictor\n",
    "\n",
    "### Spis treści: \n",
    "1. Cel pracy oraz pytanie badawcze\n",
    "2. Przygotowanie danych  \n",
    "3. Modele\n",
    "4. Wyniki \n",
    "5. Konkluzje\n",
    "\n",
    "# 1. Cel pracy oraz pytanie badawcze \n",
    "\n",
    "### 1.1 Pytanie badawcze\n",
    "Czy da się przewidzieć oceny filmów na podstawie analizy sentymentu na portalu reddit?\n",
    "\n",
    "# 2. Przygotowanie danych\n",
    "\n",
    "### 2.1 Eksploracja danych\n",
    "\n",
    "Do wytrenowania modelu została użyte zostały dane z zawierających 1 600 000 tweetów wraz z oznaczeniem sentymentu.   \n",
    "Link do danych: https://www.kaggle.com/kazanova/sentiment140\n"
   ]
  },
  {
   "cell_type": "code",
   "execution_count": 5,
   "id": "0f414749-d377-4544-9885-a1fbc19d703c",
   "metadata": {
    "execution": {
     "iopub.execute_input": "2021-06-20T22:59:49.493718Z",
     "iopub.status.busy": "2021-06-20T22:59:49.493251Z",
     "iopub.status.idle": "2021-06-20T22:59:56.936763Z",
     "shell.execute_reply": "2021-06-20T22:59:56.935630Z",
     "shell.execute_reply.started": "2021-06-20T22:59:49.493676Z"
    },
    "tags": []
   },
   "outputs": [
    {
     "data": {
      "image/png": "[encoded data removed]",
      "text/plain": [
       "<Figure size 842.4x595.44 with 1 Axes>"
      ]
     },
     "metadata": {},
     "output_type": "display_data"
    }
   ],
   "source": [
    "import seaborn as sns \n",
    "import matplotlib.pyplot as plt\n",
    "import pandas as pd\n",
    "\n",
    "data = pd.read_csv('Data/twitter_data.csv', \n",
    "                      encoding='latin-1', names=['sentiment', 'id', 'date', 'flag', 'user',\n",
    "                                                'text'])\n",
    "data['sentiment'].replace(4, 1, inplace=True)\n",
    "sns.countplot(x=data['sentiment'])\n",
    "sns.set(rc={'figure.figsize':(30,30)})\n",
    "plt.title('Porównanie liczebności klas')\n",
    "plt.show()"
   ]
  },
  {
   "cell_type": "markdown",
   "id": "7de6203a-6086-41b7-8457-5f42f9c96e3c",
   "metadata": {},
   "source": [
    "### 2.2 Wstępna obróbka danych\n",
    "- usunięcie znaków specjalnych\n",
    "- usunięcie \"\\n\" oraz \"\\r\"\n",
    "- usunięcie nazw wspomnianych przez autora postu innych użytkowników twittera\n",
    "\n",
    "### 2.3 Usunięcie \"stop words\"\n",
    "- użycie biblioteki nltk\n",
    "- usunięcie słów takich jak ‘i’, ‘me’, ‘you’, które nie wnoszą informacji do zdania\n",
    "\n",
    "### 2.4 Tokenizacja oraz padding\n",
    "- użycie biblioteki tensorflow\n",
    "\n",
    "### 2.5 Word2vec\n",
    "- zamiana słów na wektory o wybranym wymiarze\n",
    "- słowa o podobnym znaczeniu znajdują się w przestrzeni blisko siebie\n",
    "\n",
    "### 2.6 Pobieranie danych z portalu reddit\n",
    "- użycie biblioteki psaw, zawierającej API reddita \n",
    "- dla danego filmu pobieramy 1000 komentarzy oraz przeprowadzamy na nich analize sentymentu\n",
    "- obliczamy średnią ważoną wyników, gdzie wagą jest liczba punktów przy danym komentarzu \n",
    "\n",
    "\n",
    "# 3. Modele\n",
    "\n",
    "### 3.1 Sposoby trenowania modeli\n",
    "- ze względu na bardzo duży zbiór danych, oraz skomplikowane obliczenia brak tuningu hiperparametrów oraz walidacji krzyżowej\n",
    "- uczenie modelu na połowie zbioru danych ze względu na ogranicznia sprzętowe\n",
    "\n",
    "### 3.2 CNN \n",
    "- optimizer : Adam\n",
    "- funkcja straty: binary cross-entropy\n",
    "- najlepszy wynik: \n",
    "\n",
    "![caption](Images/CNN.png)\n",
    "\n",
    "### 3.3 LSTM\n",
    "- optimizer : Adam\n",
    "- funkcja straty: binary cross-entropy\n",
    "- najlepszy wynik : 0.7887 na zbiorze walidacyjnym\n",
    "\n",
    "![caption](Images/RNN.png)\n",
    "\n",
    "### __W związku z zauważalnie lepszymi wynikami dla modelu LSTM to on zostanie wykorzystany w dalszej pracy__ \n",
    "\n",
    "# 4. Wyniki \n",
    "\n",
    "### 4.1 Średni błąd\n",
    "![caption](Images/Wyniki.png)\n",
    "\n",
    "### 4.2 Wykres dla Metacritic\n",
    "![caption](Images/Metacritic_error.png)\n",
    "\n",
    "### 4.3 Wykres dla IMDB\n",
    "![caption](Images/IMDb_error.png)\n",
    "\n",
    "### 4.4 Wykres dla Rotten Tomatoes\n",
    "![caption](Images/RottenTomatoes_error.png)\n",
    "\n",
    "\n",
    "# 5. Konkluzje\n",
    "### 5.1 Nie udało nam się uzyskać satysfakcjonującej dokładności\n",
    "### 5.2 Możliwe powody: \n",
    "1. Inny charakter reddita od klasycznych social mediów\n",
    "2. Bańki informacyjne\n",
    "3. Subbredit poświęcony kinematografii zrzesza ludzi zainteresowanych kinem, przy portalach takich jak IMDB czy RottenTomatoes zabierają głos \"niedzielni\" kinomaniacy"
   ]
  },
  {
   "cell_type": "code",
   "execution_count": null,
   "id": "33326a0a-f6a0-4b82-82b5-662a77b36926",
   "metadata": {},
   "outputs": [],
   "source": []
  }
 ],
 "metadata": {
  "kernelspec": {
   "display_name": "Python 3",
   "language": "python",
   "name": "python3"
  },
  "language_info": {
   "codemirror_mode": {
    "name": "ipython",
    "version": 3
   },
   "file_extension": ".py",
   "mimetype": "text/x-python",
   "name": "python",
   "nbconvert_exporter": "python",
   "pygments_lexer": "ipython3",
   "version": "3.8.5"
  }
 },
 "nbformat": 4,
 "nbformat_minor": 5
}

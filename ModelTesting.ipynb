{
 "cells": [
  {
   "cell_type": "code",
   "execution_count": 5,
   "id": "b863848a-acef-40f4-a292-a56c2cd5fba3",
   "metadata": {
    "execution": {
     "iopub.execute_input": "2021-06-20T22:31:59.629530Z",
     "iopub.status.busy": "2021-06-20T22:31:59.629086Z",
     "iopub.status.idle": "2021-06-20T22:32:03.836048Z",
     "shell.execute_reply": "2021-06-20T22:32:03.834614Z",
     "shell.execute_reply.started": "2021-06-20T22:31:59.629489Z"
    },
    "scrolled": true,
    "tags": []
   },
   "outputs": [],
   "source": [
    "import numpy as np\n",
    "import pandas as pd\n",
    "from RedditDataPreparation.RedditApiConnector import RedditApiConnector\n",
    "from RedditDataPreparation.DataPreprocessing import DataPreprocesser\n",
    "from Models.FirstCNN import FirstCNN\n",
    "import logging\n",
    "\n",
    "logging.getLogger('tensorflow').setLevel(logging.WARNING)\n",
    "\n",
    "\n",
    "class RedditBasedPredictor:\n",
    "\n",
    "    def __init__(self, name, subreddit='movies'):\n",
    "        self.subreddit = subreddit\n",
    "        self.model = FirstCNN()\n",
    "        self.connector = RedditApiConnector(self.subreddit)\n",
    "        self.data = self.get_data(name)\n",
    "        self.preprocessor = DataPreprocesser(self.data, 'body')\n",
    "\n",
    "    def get_data(self, name):\n",
    "        return self.connector.search_comments(name)\n",
    "\n",
    "    def make_prediction(self):\n",
    "        clean_data = self.preprocessor.full_prepare_data(self.data, 'body')\n",
    "        return self.model.predict_sentiment(clean_data)\n",
    "\n",
    "    def prepare_avg(self):\n",
    "        preds = self.make_prediction()\n",
    "        weights_reshape = np.reshape(self.data['score'].values, (preds.shape))\n",
    "        return np.average(preds, weights=weights_reshape) * 100 \n",
    "\n",
    "class TestPredictor:\n",
    "    def __init__(self):\n",
    "        self.data = pd.read_csv('Data/titles_with_reviews.csv')\n",
    "        self.data['preds'] = np.NaN\n",
    "        self.data['preds_diff'] = np.NaN\n",
    "\n",
    "    def make_preds(self):\n",
    "        for i, movie in enumerate(self.data['original_title']):\n",
    "            try:\n",
    "                predictor = RedditBasedPredictor(movie)\n",
    "                prediction = predictor.prepare_avg()\n",
    "                self.data['preds'].iloc[i] = prediction * 100\n",
    "                self.data['preds_diff'] = np.absolute(self.data['preds']  - self.data['preds'])\n",
    "                print(self.data.iloc[i])\n",
    "                if i % 5 == 0:\n",
    "                    self.data.to_csv('preds.csv', mode='a')\n",
    "            except KeyError:\n",
    "                print('No reddit comments')\n",
    "                \n",
    "class DataHandling:\n",
    "    \n",
    "    def __init__(self):\n",
    "        self.data = self.preparing_data()\n",
    "        \n",
    "    def preparing_data(self):\n",
    "        top50 = pd.read_csv('Data/Filmweb_top50.csv', index_col=0)\n",
    "        top50['imdb'] = (top50['imdb'].str.replace('/10', '').astype(float)) * 10 \n",
    "        top50['rottenTomatoes'] = top50['rottenTomatoes'].str.replace('%', '').astype(float) \n",
    "        top50['metacritic'] = top50['metacritic'].str.replace('/100', '').astype(float) \n",
    "\n",
    "        return top50\n",
    "\n",
    "    def measure_one_movie(self, titleFromPrediction):\n",
    "        predictor = RedditBasedPredictor(titleFromPrediction)\n",
    "        resultFromPrediction = predictor.prepare_avg()\n",
    "        \n",
    "        errorIMDB = round(abs(resultFromPrediction - self.data.loc[titleFromPrediction, 'imdb']), 2)\n",
    "        errorRotten = round(abs(resultFromPrediction - self.data.loc[titleFromPrediction, 'rottenTomatoes']), 2)\n",
    "        errorMetacritic = round(abs(resultFromPrediction - self.data.loc[titleFromPrediction, 'metacritic']), 2)\n",
    "\n",
    "        data = [titleFromPrediction, self.data.loc[titleFromPrediction, 'year'], resultFromPrediction,\n",
    "                self.data.loc[titleFromPrediction, 'imdb'], errorIMDB, self.data.loc[titleFromPrediction, 'rottenTomatoes'],\n",
    "                errorRotten, self.data.loc[titleFromPrediction, 'metacritic'], errorMetacritic]\n",
    "        print(data)\n",
    "        return data\n",
    "    \n",
    "\n",
    "    def measure_all_movies(self):\n",
    "    \n",
    "        full_list = []\n",
    "        columns = ['title', 'year', 'prediction', 'imdb', 'errorIMDB', 'rottenTomatoes', 'errorRotten', 'metacritic',\n",
    "                   'errorMetacritic']\n",
    "        data_df = pd.DataFrame(columns=columns)\n",
    "        for i, movie in enumerate(self.data.index):\n",
    "            print(i, movie)\n",
    "            data_df.loc[len(data_df.index)] = self.measure_one_movie(movie)\n",
    "            if i % 5 == 0:\n",
    "                data_df.to_csv('top_50_preds.csv', mode='a')\n",
    "        data_df.to_csv('top_50_preds.csv', mode='a')\n",
    "\n",
    "    \n",
    "if __name__ == '__main__':\n",
    "    FinalTest = DataHandling()\n",
    "    FinalTest.measure_all_movies()\n"
   ]
  },
  {
   "cell_type": "code",
   "execution_count": 7,
   "id": "9ce1c1fb-874e-41ea-b7da-c7f303fa4a21",
   "metadata": {
    "execution": {
     "iopub.execute_input": "2021-06-20T22:32:03.854258Z",
     "iopub.status.busy": "2021-06-20T22:32:03.853783Z",
     "iopub.status.idle": "2021-06-20T22:32:03.878700Z",
     "shell.execute_reply": "2021-06-20T22:32:03.874553Z",
     "shell.execute_reply.started": "2021-06-20T22:32:03.854217Z"
    },
    "scrolled": true,
    "tags": []
   },
   "outputs": [],
   "source": [
    "data = pd.read_csv('top_50_preds.csv')\n",
    "data.drop_duplicates(inplace=True)\n",
    "data.drop(index=1, inplace=True)\n"
   ]
  },
  {
   "cell_type": "code",
   "execution_count": 8,
   "id": "37eb1656-867d-4c35-8137-47ce1441a97b",
   "metadata": {
    "execution": {
     "iopub.execute_input": "2021-06-20T22:32:03.909211Z",
     "iopub.status.busy": "2021-06-20T22:32:03.908429Z",
     "iopub.status.idle": "2021-06-20T22:32:03.920510Z",
     "shell.execute_reply": "2021-06-20T22:32:03.918787Z",
     "shell.execute_reply.started": "2021-06-20T22:32:03.909136Z"
    },
    "tags": []
   },
   "outputs": [],
   "source": [
    "data['errorIMDB'] = data['errorIMDB'].apply(lambda x: float(x))\n",
    "data['errorRotten'] = data['errorRotten'].apply(lambda x: float(x))\n",
    "data['errorMetacritic'] = data['errorMetacritic'].apply(lambda x: float(x))"
   ]
  },
  {
   "cell_type": "code",
   "execution_count": 11,
   "id": "5db516f8-9dbc-4ae6-b3d5-4cf14898597b",
   "metadata": {
    "execution": {
     "iopub.execute_input": "2021-06-20T22:52:16.208808Z",
     "iopub.status.busy": "2021-06-20T22:52:16.208119Z",
     "iopub.status.idle": "2021-06-20T22:52:16.220062Z",
     "shell.execute_reply": "2021-06-20T22:52:16.218764Z",
     "shell.execute_reply.started": "2021-06-20T22:52:16.208753Z"
    },
    "tags": []
   },
   "outputs": [
    {
     "name": "stdout",
     "output_type": "stream",
     "text": [
      "Błąd predykcji w przypadku ocen z IMDB wynosi:  29.03\n",
      "Błąd predykcji w przypadku ocen z RottenTomatoes wynosi:  20.5\n",
      "Błąd predykcji w przypadku ocen z Metacritic wynosi:  29.01\n"
     ]
    }
   ],
   "source": [
    "print('Błąd predykcji w przypadku ocen z IMDB wynosi: ', round(data['errorIMDB'].mean(), 2))\n",
    "print('Błąd predykcji w przypadku ocen z RottenTomatoes wynosi: ',round(data['errorMetacritic'].mean(), 2))\n",
    "print('Błąd predykcji w przypadku ocen z Metacritic wynosi: ',round(data['errorRotten'].mean(), 2))"
   ]
  },
  {
   "cell_type": "code",
   "execution_count": null,
   "id": "172c0096-75c2-43b0-81d7-2fe95db04f75",
   "metadata": {},
   "outputs": [],
   "source": []
  }
 ],
 "metadata": {
  "kernelspec": {
   "display_name": "Python 3",
   "language": "python",
   "name": "python3"
  },
  "language_info": {
   "codemirror_mode": {
    "name": "ipython",
    "version": 3
   },
   "file_extension": ".py",
   "mimetype": "text/x-python",
   "name": "python",
   "nbconvert_exporter": "python",
   "pygments_lexer": "ipython3",
   "version": "3.8.5"
  }
 },
 "nbformat": 4,
 "nbformat_minor": 5
}

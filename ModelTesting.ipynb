{
 "cells": [
  {
   "cell_type": "code",
   "execution_count": 7,
   "id": "b863848a-acef-40f4-a292-a56c2cd5fba3",
   "metadata": {
    "execution": {
     "iopub.execute_input": "2021-06-20T18:58:22.900720Z",
     "iopub.status.busy": "2021-06-20T18:58:22.899910Z",
     "iopub.status.idle": "2021-06-20T19:12:49.466202Z",
     "shell.execute_reply": "2021-06-20T19:12:49.464588Z",
     "shell.execute_reply.started": "2021-06-20T18:58:22.900660Z"
    },
    "scrolled": true,
    "tags": []
   },
   "outputs": [
    {
     "name": "stdout",
     "output_type": "stream",
     "text": [
      "0 The Shawshank Redemption\n",
      "['The Shawshank Redemption', 1994, 0.5775977699545221, 0.93, 35.24, 0.91, 33.24, 0.8, 22.24]\n",
      "1 The Intouchables\n",
      "['The Intouchables', 2011, 0.4615832603238329, 0.85, 38.84, 0.75, 28.84, 0.57, 10.84]\n",
      "2 The Green Mile\n",
      "['The Green Mile', 1999, 0.53103310917134, 0.86, 32.9, 0.78, 24.9, 0.61, 7.9]\n",
      "3 The Godfather\n",
      "['The Godfather', 1972, 0.6263442253248638, 0.9199999999999999, 29.37, 0.97, 34.37, 1.0, 37.37]\n",
      "4 12 Angry Men\n",
      "['12 Angry Men', 1957, 0.6600836086514343, 0.9, 23.99, 1.0, 33.99, 0.96, 29.99]\n",
      "5 Forrest Gump\n",
      "['Forrest Gump', 1994, 0.7160076367328951, 0.8800000000000001, 16.4, 0.71, 0.6, 0.82, 10.4]\n",
      "6 The Godfather: Part II\n",
      "['The Godfather: Part II', 1974, 0.4160768239039133, 0.9, 48.39, 0.96, 54.39, 0.9, 48.39]\n",
      "7 The Lord of the Rings: The Return of the King\n",
      "['The Lord of the Rings: The Return of the King', 2003, 0.5890185130947339, 0.89, 30.1, 0.93, 34.1, 0.94, 35.1]\n",
      "8 Schindler's List\n",
      "[\"Schindler's List\", 1993, 0.5076344238768379, 0.89, 38.24, 0.98, 47.24, 0.94, 43.24]\n",
      "9 Pulp Fiction\n",
      "['Pulp Fiction', 1994, 0.6202145121439818, 0.89, 26.98, 0.92, 29.98, 0.94, 31.98]\n",
      "10 Se7en\n",
      "['Se7en', 1995, 0.545371489114844, 0.86, 31.46, 0.81, 26.46, 0.65, 10.46]\n",
      "11 Joker\n",
      "['Joker', 2019, 0.531294769543908, 0.8400000000000001, 30.87, 0.68, 14.87, 0.59, 5.87]\n",
      "12 The Lord of the Rings: The Two Towers\n",
      "['The Lord of the Rings: The Two Towers', 2002, 0.5731815154728768, 0.8699999999999999, 29.68, 0.95, 37.68, 0.87, 29.68]\n",
      "13 Fight Club\n",
      "['Fight Club', 1999, 0.5927384093778275, 0.8800000000000001, 28.73, 0.79, 19.73, 0.66, 6.73]\n",
      "14 Goodfellas\n",
      "['Goodfellas', 1990, 0.5719022807284382, 0.8699999999999999, 29.81, 0.96, 38.81, 0.9, 32.81]\n",
      "15 The Pianist\n",
      "['The Pianist', 2002, 0.49728316847028375, 0.85, 35.27, 0.95, 45.27, 0.85, 35.27]\n",
      "16 A Beautiful Mind\n",
      "['A Beautiful Mind', 2001, 0.5626482394652836, 0.82, 25.74, 0.74, 17.74, 0.72, 15.74]\n",
      "17 Inception\n",
      "['Inception', 2010, 0.5633040606658322, 0.8800000000000001, 31.67, 0.87, 30.67, 0.74, 17.67]\n",
      "18 Django Unchained\n",
      "['Django Unchained', 2012, 0.6023856748069735, 0.8400000000000001, 23.76, 0.87, 26.76, 0.81, 20.76]\n",
      "19 The Silence of the Lambs\n",
      "['The Silence of the Lambs', 1991, 0.5756902574501638, 0.86, 28.43, 0.96, 38.43, 0.85, 27.43]\n",
      "20 The Lion King\n",
      "['The Lion King', 1994, 0.5145644773239632, 0.85, 33.54, 0.93, 41.54, 0.88, 36.54]\n",
      "21 Scarface\n",
      "['Scarface', 1983, 0.48252099229983014, 0.8300000000000001, 34.75, 0.82, 33.75, 0.65, 16.75]\n",
      "22 Gran Torino\n",
      "['Gran Torino', 2008, 0.48781977675736765, 0.8099999999999999, 32.22, 0.81, 32.22, 0.72, 23.22]\n",
      "23 Shutter Island\n",
      "['Shutter Island', 2010, 0.6449988205340824, 0.82, 17.5, 0.68, 3.5, 0.63, 1.5]\n",
      "24 Coco\n",
      "['Coco', 2017, 0.6205097727465544, 0.8400000000000001, 21.95, 0.97, 34.95, 0.81, 18.95]\n",
      "25 American History X\n",
      "['American History X', 1998, 0.5076835102619168, 0.85, 34.23, 0.83, 32.23, 0.62, 11.23]\n",
      "26 Green Book\n",
      "['Green Book', 2018, 0.6409070247953589, 0.82, 17.91, 0.77, 12.91, 0.69, 4.91]\n",
      "27 Leon: The Professional\n",
      "['Leon: The Professional', 1994, 0.6814959612292735, 0.85, 16.85, 0.74, 5.85, 0.64, 4.15]\n",
      "28 Gladiator\n",
      "['Gladiator', 2000, 0.5210556008104081, 0.85, 32.89, 0.77, 24.89, 0.67, 14.89]\n",
      "29 The Boy in the Striped Pyjamas\n",
      "['The Boy in the Striped Pyjamas', 2008, 0.21589016202493166, 0.78, 56.41, 0.64, 42.41, 0.55, 33.41]\n",
      "30 Saving Private Ryan\n",
      "['Saving Private Ryan', 1998, 0.6021605828449926, 0.86, 25.78, 0.93, 32.78, 0.91, 30.78]\n",
      "31 Braveheart\n",
      "['Braveheart', 1995, 0.5700150195271957, 0.8300000000000001, 26.0, 0.78, 21.0, 0.68, 11.0]\n",
      "32 Whiplash\n",
      "['Whiplash', 2014, 0.5104729785975888, 0.85, 33.95, 0.94, 42.95, 0.88, 36.95]\n",
      "33 Hacksaw Ridge\n",
      "['Hacksaw Ridge', 2016, 0.5470715347976367, 0.8099999999999999, 26.29, 0.84, 29.29, 0.71, 16.29]\n",
      "34 Good Will Hunting\n",
      "['Good Will Hunting', 1997, 0.6894870113889302, 0.8300000000000001, 14.05, 0.98, 29.05, 0.7, 1.05]\n",
      "35 Apocalypse Now\n",
      "['Apocalypse Now', 1979, 0.5126135488890217, 0.8400000000000001, 32.74, 0.98, 46.74, 0.94, 42.74]\n",
      "36 Scent of a Woman\n",
      "['Scent of a Woman', 1992, 0.5343128818885219, 0.8, 26.57, 0.89, 35.57, 0.59, 5.57]\n",
      "37 The Prestige\n",
      "['The Prestige', 2006, 0.4151334361734823, 0.85, 43.49, 0.76, 34.49, 0.66, 24.49]\n",
      "38 Avengers: Infinity War\n",
      "['Avengers: Infinity War', 2018, 0.5450852432788913, 0.8400000000000001, 29.49, 0.85, 30.49, 0.68, 13.49]\n",
      "39 Star Wars: Episode V - The Empire Strikes Back\n",
      "['Star Wars: Episode V - The Empire Strikes Back', 1980, 0.7187726159456485, 0.8699999999999999, 15.12, 0.94, 22.12, 0.82, 10.12]\n",
      "40 Once Upon a Time in America\n",
      "['Once Upon a Time in America', 1984, 0.6318226795642297, 0.8400000000000001, 20.82, 0.87, 23.82, nan, nan]\n",
      "41 Star Wars: Episode VI - Return of the Jedi\n",
      "['Star Wars: Episode VI - Return of the Jedi', 1983, 0.692819407376332, 0.8300000000000001, 13.72, 0.82, 12.72, 0.58, 11.28]\n",
      "42 The Help\n",
      "['The Help', 2011, 0.4296073851489171, 0.8, 37.04, 0.76, 33.04, 0.62, 19.04]\n",
      "43 The Pursuit of Happyness\n",
      "['The Pursuit of Happyness', 2006, 0.6975538202548305, 0.8, 10.24, 0.67, 2.76, 0.64, 5.76]\n",
      "44 Casino\n",
      "['Casino', 1995, 0.32885280717432375, 0.82, 49.11, 0.8, 47.11, 0.73, 40.11]\n",
      "45 The Notebook\n",
      "['The Notebook', 2004, 0.6136720089714617, 0.78, 16.63, 0.53, 8.37, 0.53, 8.37]\n",
      "46 Amadeus\n",
      "['Amadeus', 1984, 0.6119257755436714, 0.8300000000000001, 21.81, 0.93, 31.81, 0.88, 26.81]\n",
      "47 Platoon\n",
      "['Platoon', 1986, 0.5240302336408174, 0.8099999999999999, 28.6, 0.87, 34.6, 0.92, 39.6]\n",
      "48 Heat\n",
      "['Heat', 1995, 0.428224243108839, 0.82, 39.18, 0.87, 44.18, 0.76, 33.18]\n",
      "49 Parasite\n",
      "['Parasite', 2019, 0.590458783678469, 0.86, 26.95, 0.98, 38.95, 0.96, 36.95]\n"
     ]
    }
   ],
   "source": [
    "import numpy as np\n",
    "import pandas as pd\n",
    "from RedditDataPreparation.RedditApiConnector import RedditApiConnector\n",
    "from RedditDataPreparation.DataPreprocessing import DataPreprocesser\n",
    "from Models.FirstCNN import FirstCNN\n",
    "import logging\n",
    "\n",
    "logging.getLogger('tensorflow').setLevel(logging.WARNING)\n",
    "\n",
    "\n",
    "class RedditBasedPredictor:\n",
    "\n",
    "    def __init__(self, name, subreddit='movies'):\n",
    "        self.subreddit = subreddit\n",
    "        self.model = FirstCNN()\n",
    "        self.connector = RedditApiConnector(self.subreddit)\n",
    "        self.data = self.get_data(name)\n",
    "        self.preprocessor = DataPreprocesser(self.data, 'body')\n",
    "\n",
    "    def get_data(self, name):\n",
    "        return self.connector.search_comments(name)\n",
    "\n",
    "    def make_prediction(self):\n",
    "        clean_data = self.preprocessor.full_prepare_data(self.data, 'body')\n",
    "        return self.model.predict_sentiment(clean_data)\n",
    "\n",
    "    # Pomyslec nad wagami takimi zeby wywalalo te z ujemnym scorem\n",
    "    def prepare_avg(self):\n",
    "        preds = self.make_prediction()\n",
    "        weights_reshape = np.reshape(self.data['score'].values, (preds.shape))\n",
    "        return np.average(preds, weights=weights_reshape)\n",
    "\n",
    "class TestPredictor:\n",
    "    def __init__(self):\n",
    "        self.data = pd.read_csv('Data/titles_with_reviews.csv')\n",
    "        self.data['preds'] = np.NaN\n",
    "        self.data['preds_diff'] = np.NaN\n",
    "\n",
    "    def make_preds(self):\n",
    "        for i, movie in enumerate(self.data['original_title']):\n",
    "            try:\n",
    "                predictor = RedditBasedPredictor(movie)\n",
    "                prediction = predictor.prepare_avg()\n",
    "                self.data['preds'].iloc[i] = prediction * 100\n",
    "                self.data['preds_diff'] = np.absolute(self.data['preds']  - self.data['preds'])\n",
    "                print(self.data.iloc[i])\n",
    "                if i % 5 == 0:\n",
    "                    self.data.to_csv('preds.csv', mode='a')\n",
    "            except KeyError:\n",
    "                print('No reddit comments')\n",
    "                \n",
    "class DataHandling:\n",
    "    \n",
    "    def __init__(self):\n",
    "        self.data = self.preparing_data()\n",
    "        \n",
    "    def preparing_data(self):\n",
    "        top50 = pd.read_csv('Data/Filmweb_top50.csv', index_col=0)\n",
    "        top50['imdb'] = (top50['imdb'].str.replace('/10', '').astype(float)) / 10\n",
    "        top50['rottenTomatoes'] = top50['rottenTomatoes'].str.replace('%', '').astype(float) / 100\n",
    "        top50['metacritic'] = top50['metacritic'].str.replace('/100', '').astype(float) / 100\n",
    "\n",
    "        return top50\n",
    "\n",
    "    def measure_one_movie(self, titleFromPrediction):\n",
    "        predictor = RedditBasedPredictor(titleFromPrediction)\n",
    "        resultFromPrediction = predictor.prepare_avg()\n",
    "        \n",
    "        errorIMDB = round(abs((resultFromPrediction - self.data.loc[titleFromPrediction, 'imdb']) * 100), 2)\n",
    "        errorRotten = round(abs((resultFromPrediction - self.data.loc[titleFromPrediction, 'rottenTomatoes']) * 100), 2)\n",
    "        errorMetacritic = round(abs((resultFromPrediction - self.data.loc[titleFromPrediction, 'metacritic']) * 100), 2)\n",
    "\n",
    "        data = [titleFromPrediction, self.data.loc[titleFromPrediction, 'year'], resultFromPrediction,\n",
    "                self.data.loc[titleFromPrediction, 'imdb'], errorIMDB, self.data.loc[titleFromPrediction, 'rottenTomatoes'],\n",
    "                errorRotten, self.data.loc[titleFromPrediction, 'metacritic'], errorMetacritic]\n",
    "        print(data)\n",
    "        return data\n",
    "    \n",
    "\n",
    "    def measure_all_movies(self):\n",
    "    \n",
    "        full_list = []\n",
    "        columns = ['title', 'year', 'prediction', 'imdb', 'errorIMDB', 'rottenTomatoes', 'errorRotten', 'metacritic',\n",
    "                   'errorMetacritic']\n",
    "        data_df = pd.DataFrame(columns=columns)\n",
    "        for i, movie in enumerate(self.data.index):\n",
    "            print(i, movie)\n",
    "            data_df.loc[len(data_df.index)] = self.measure_one_movie(movie)\n",
    "            if i % 5 == 0:\n",
    "                data_df.to_csv('top_50_preds.csv', mode='a')\n",
    "        data_df.to_csv('top_50_preds.csv', mode='a')\n",
    "#         data_df = data_df.set_index('title')\n",
    "#         result_df = result_df.append(data_df)\n",
    "        \n",
    "\n",
    "    \n",
    "if __name__ == '__main__':\n",
    "    FinalTest = DataHandling()\n",
    "    FinalTest.measure_all_movies()\n",
    "#     test = TestPredictor()\n",
    "#     test.make_preds()\n"
   ]
  },
  {
   "cell_type": "code",
   "execution_count": 19,
   "id": "f1fc907f-b3aa-4494-93a5-28e67a1ea6e9",
   "metadata": {
    "execution": {
     "iopub.execute_input": "2021-06-20T19:27:50.537659Z",
     "iopub.status.busy": "2021-06-20T19:27:50.537291Z",
     "iopub.status.idle": "2021-06-20T19:27:50.546478Z",
     "shell.execute_reply": "2021-06-20T19:27:50.545585Z",
     "shell.execute_reply.started": "2021-06-20T19:27:50.537625Z"
    },
    "tags": []
   },
   "outputs": [],
   "source": [
    "data = pd.read_csv('top_50_preds.csv')"
   ]
  },
  {
   "cell_type": "code",
   "execution_count": 20,
   "id": "9ce1c1fb-874e-41ea-b7da-c7f303fa4a21",
   "metadata": {
    "execution": {
     "iopub.execute_input": "2021-06-20T19:27:52.384625Z",
     "iopub.status.busy": "2021-06-20T19:27:52.384175Z",
     "iopub.status.idle": "2021-06-20T19:27:52.396407Z",
     "shell.execute_reply": "2021-06-20T19:27:52.395216Z",
     "shell.execute_reply.started": "2021-06-20T19:27:52.384583Z"
    },
    "scrolled": true,
    "tags": []
   },
   "outputs": [],
   "source": [
    "data = pd.read_csv('top_50_preds.csv')\n",
    "data.drop_duplicates(inplace=True)\n",
    "data.drop(index=1, inplace=True)\n"
   ]
  },
  {
   "cell_type": "code",
   "execution_count": 31,
   "id": "37eb1656-867d-4c35-8137-47ce1441a97b",
   "metadata": {
    "execution": {
     "iopub.execute_input": "2021-06-20T19:30:28.958611Z",
     "iopub.status.busy": "2021-06-20T19:30:28.956819Z",
     "iopub.status.idle": "2021-06-20T19:30:28.993064Z",
     "shell.execute_reply": "2021-06-20T19:30:28.991158Z",
     "shell.execute_reply.started": "2021-06-20T19:30:28.958458Z"
    },
    "tags": []
   },
   "outputs": [],
   "source": [
    "data['errorIMDB'] = data['errorIMDB'].apply(lambda x: float(x))\n",
    "data['errorRotten'] = data['errorRotten'].apply(lambda x: float(x))\n",
    "data['errorMetacritic'] = data['errorMetacritic'].apply(lambda x: float(x))"
   ]
  },
  {
   "cell_type": "code",
   "execution_count": 34,
   "id": "5db516f8-9dbc-4ae6-b3d5-4cf14898597b",
   "metadata": {
    "execution": {
     "iopub.execute_input": "2021-06-20T19:31:03.022396Z",
     "iopub.status.busy": "2021-06-20T19:31:03.021373Z",
     "iopub.status.idle": "2021-06-20T19:31:03.035649Z",
     "shell.execute_reply": "2021-06-20T19:31:03.032941Z",
     "shell.execute_reply.started": "2021-06-20T19:31:03.022304Z"
    },
    "tags": []
   },
   "outputs": [
    {
     "name": "stdout",
     "output_type": "stream",
     "text": [
      "29.02521739130434\n",
      "20.49911111111111\n",
      "29.013478260869555\n"
     ]
    }
   ],
   "source": [
    "print(data['errorIMDB'].mean())\n",
    "print(data['errorMetacritic'].mean())\n",
    "print(data['errorRotten'].mean())"
   ]
  },
  {
   "cell_type": "code",
   "execution_count": 39,
   "id": "755b5a64-9a30-424e-acdd-c2f92e0a11ae",
   "metadata": {
    "execution": {
     "iopub.execute_input": "2021-06-20T21:12:57.225217Z",
     "iopub.status.busy": "2021-06-20T21:12:57.224920Z",
     "iopub.status.idle": "2021-06-20T21:12:57.229938Z",
     "shell.execute_reply": "2021-06-20T21:12:57.228960Z",
     "shell.execute_reply.started": "2021-06-20T21:12:57.225189Z"
    },
    "tags": []
   },
   "outputs": [],
   "source": [
    "data = data.drop(columns=['Unnamed: 0'])"
   ]
  },
  {
   "cell_type": "code",
   "execution_count": 43,
   "id": "61385610-97eb-41db-941a-88d61a2c7c0a",
   "metadata": {
    "execution": {
     "iopub.execute_input": "2021-06-20T21:17:40.933310Z",
     "iopub.status.busy": "2021-06-20T21:17:40.932978Z",
     "iopub.status.idle": "2021-06-20T21:17:40.939334Z",
     "shell.execute_reply": "2021-06-20T21:17:40.938308Z",
     "shell.execute_reply.started": "2021-06-20T21:17:40.933279Z"
    },
    "tags": []
   },
   "outputs": [],
   "source": [
    "data.to_csv('final_results.csv')"
   ]
  },
  {
   "cell_type": "code",
   "execution_count": 42,
   "id": "599627e1-8546-4618-88cd-3a5a363a41ff",
   "metadata": {
    "execution": {
     "iopub.execute_input": "2021-06-20T21:17:39.352576Z",
     "iopub.status.busy": "2021-06-20T21:17:39.352246Z",
     "iopub.status.idle": "2021-06-20T21:17:39.357073Z",
     "shell.execute_reply": "2021-06-20T21:17:39.355572Z",
     "shell.execute_reply.started": "2021-06-20T21:17:39.352545Z"
    },
    "tags": []
   },
   "outputs": [],
   "source": [
    "data.reset_index(drop=True, inplace=True)"
   ]
  },
  {
   "cell_type": "code",
   "execution_count": null,
   "id": "172c0096-75c2-43b0-81d7-2fe95db04f75",
   "metadata": {},
   "outputs": [],
   "source": []
  }
 ],
 "metadata": {
  "kernelspec": {
   "display_name": "Python 3",
   "language": "python",
   "name": "python3"
  },
  "language_info": {
   "codemirror_mode": {
    "name": "ipython",
    "version": 3
   },
   "file_extension": ".py",
   "mimetype": "text/x-python",
   "name": "python",
   "nbconvert_exporter": "python",
   "pygments_lexer": "ipython3",
   "version": "3.8.5"
  }
 },
 "nbformat": 4,
 "nbformat_minor": 5
}

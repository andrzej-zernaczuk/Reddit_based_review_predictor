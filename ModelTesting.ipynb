{
 "cells": [
  {
   "cell_type": "code",
   "execution_count": 6,
   "id": "b863848a-acef-40f4-a292-a56c2cd5fba3",
   "metadata": {
    "execution": {
     "iopub.execute_input": "2021-06-20T18:41:59.539670Z",
     "iopub.status.busy": "2021-06-20T18:41:59.539370Z",
     "iopub.status.idle": "2021-06-20T18:55:19.830373Z",
     "shell.execute_reply": "2021-06-20T18:55:19.827317Z",
     "shell.execute_reply.started": "2021-06-20T18:41:59.539641Z"
    },
    "tags": []
   },
   "outputs": [
    {
     "name": "stdout",
     "output_type": "stream",
     "text": [
      "The Shawshank Redemption\n",
      "['The Shawshank Redemption', 1994, 0.5775977699545221, 0.93, 35.24, 0.91, 33.24, 0.8, 22.24]\n",
      "The Intouchables\n",
      "['The Intouchables', 2011, 0.4615832603238329, 0.85, 38.84, 0.75, 28.84, 0.57, 10.84]\n",
      "The Green Mile\n",
      "['The Green Mile', 1999, 0.53103310917134, 0.86, 32.9, 0.78, 24.9, 0.61, 7.9]\n",
      "The Godfather\n",
      "['The Godfather', 1972, 0.6263442253248638, 0.9199999999999999, 29.37, 0.97, 34.37, 1.0, 37.37]\n",
      "12 Angry Men\n",
      "['12 Angry Men', 1957, 0.6600836086514343, 0.9, 23.99, 1.0, 33.99, 0.96, 29.99]\n",
      "Forrest Gump\n",
      "['Forrest Gump', 1994, 0.7160076367328951, 0.8800000000000001, 16.4, 0.71, 0.6, 0.82, 10.4]\n",
      "The Godfather: Part II\n",
      "['The Godfather: Part II', 1974, 0.4160768239039133, 0.9, 48.39, 0.96, 54.39, 0.9, 48.39]\n",
      "The Lord of the Rings: The Return of the King\n",
      "['The Lord of the Rings: The Return of the King', 2003, 0.5890185130947339, 0.89, 30.1, 0.93, 34.1, 0.94, 35.1]\n",
      "Schindler's List\n",
      "[\"Schindler's List\", 1993, 0.5076344238768379, 0.89, 38.24, 0.98, 47.24, 0.94, 43.24]\n",
      "Pulp Fiction\n",
      "['Pulp Fiction', 1994, 0.6202145121439818, 0.89, 26.98, 0.92, 29.98, 0.94, 31.98]\n",
      "Se7en\n",
      "['Se7en', 1995, 0.545371489114844, 0.86, 31.46, 0.81, 26.46, 0.65, 10.46]\n",
      "Joker\n",
      "['Joker', 2019, 0.531294769543908, 0.8400000000000001, 30.87, 0.68, 14.87, 0.59, 5.87]\n",
      "The Lord of the Rings: The Two Towers\n",
      "['The Lord of the Rings: The Two Towers', 2002, 0.5731815154728768, 0.8699999999999999, 29.68, 0.95, 37.68, 0.87, 29.68]\n",
      "Fight Club\n",
      "['Fight Club', 1999, 0.5927384093778275, 0.8800000000000001, 28.73, 0.79, 19.73, 0.66, 6.73]\n",
      "Goodfellas\n",
      "['Goodfellas', 1990, 0.5719022807284382, 0.8699999999999999, 29.81, 0.96, 38.81, 0.9, 32.81]\n",
      "The Pianist\n",
      "['The Pianist', 2002, 0.49728316847028375, 0.85, 35.27, 0.95, 45.27, 0.85, 35.27]\n",
      "A Beautiful Mind\n",
      "['A Beautiful Mind', 2001, 0.5626482394652836, 0.82, 25.74, 0.74, 17.74, 0.72, 15.74]\n",
      "Inception\n",
      "['Inception', 2010, 0.5633040606658322, 0.8800000000000001, 31.67, 0.87, 30.67, 0.74, 17.67]\n",
      "Django Unchained\n",
      "['Django Unchained', 2012, 0.6023856748069735, 0.8400000000000001, 23.76, 0.87, 26.76, 0.81, 20.76]\n",
      "The Silence of the Lambs\n",
      "['The Silence of the Lambs', 1991, 0.5756902574501638, 0.86, 28.43, 0.96, 38.43, 0.85, 27.43]\n",
      "The Lion King\n",
      "['The Lion King', 1994, 0.5145644773239632, 0.85, 33.54, 0.93, 41.54, 0.88, 36.54]\n",
      "Scarface\n",
      "['Scarface', 1983, 0.48252099229983014, 0.8300000000000001, 34.75, 0.82, 33.75, 0.65, 16.75]\n",
      "Gran Torino\n",
      "['Gran Torino', 2008, 0.48781977675736765, 0.8099999999999999, 32.22, 0.81, 32.22, 0.72, 23.22]\n",
      "Shutter Island\n",
      "['Shutter Island', 2010, 0.6449988205340824, 0.82, 17.5, 0.68, 3.5, 0.63, 1.5]\n",
      "Coco\n",
      "['Coco', 2017, 0.6205097727465544, 0.8400000000000001, 21.95, 0.97, 34.95, 0.81, 18.95]\n",
      "American History X\n",
      "['American History X', 1998, 0.5076835102619168, 0.85, 34.23, 0.83, 32.23, 0.62, 11.23]\n",
      "Green Book\n",
      "['Green Book', 2018, 0.6409070247953589, 0.82, 17.91, 0.77, 12.91, 0.69, 4.91]\n",
      "Leon: The Professional\n",
      "['Leon: The Professional', 1994, 0.6814959612292735, 0.85, 16.85, 0.74, 5.85, 0.64, 4.15]\n",
      "Gladiator\n",
      "['Gladiator', 2000, 0.5210556008104081, 0.85, 32.89, 0.77, 24.89, 0.67, 14.89]\n",
      "The Boy in the Striped Pyjamas\n",
      "['The Boy in the Striped Pyjamas', 2008, 0.21589016202493166, 0.78, 56.41, 0.64, 42.41, 0.55, 33.41]\n",
      "Saving Private Ryan\n",
      "['Saving Private Ryan', 1998, 0.6021605828449926, 0.86, 25.78, 0.93, 32.78, 0.91, 30.78]\n",
      "Braveheart\n",
      "['Braveheart', 1995, 0.5700150195271957, 0.8300000000000001, 26.0, 0.78, 21.0, 0.68, 11.0]\n",
      "Whiplash\n",
      "['Whiplash', 2014, 0.5104729785975888, 0.85, 33.95, 0.94, 42.95, 0.88, 36.95]\n",
      "Hacksaw Ridge\n",
      "['Hacksaw Ridge', 2016, 0.5470715347976367, 0.8099999999999999, 26.29, 0.84, 29.29, 0.71, 16.29]\n",
      "Good Will Hunting\n",
      "['Good Will Hunting', 1997, 0.6894870113889302, 0.8300000000000001, 14.05, 0.98, 29.05, 0.7, 1.05]\n",
      "Apocalypse Now\n",
      "['Apocalypse Now', 1979, 0.5126135488890217, 0.8400000000000001, 32.74, 0.98, 46.74, 0.94, 42.74]\n",
      "Scent of a Woman\n",
      "['Scent of a Woman', 1992, 0.5343128818885219, 0.8, 26.57, 0.89, 35.57, 0.59, 5.57]\n",
      "The Prestige\n",
      "['The Prestige', 2006, 0.4151334361734823, 0.85, 43.49, 0.76, 34.49, 0.66, 24.49]\n",
      "Avengers: Infinity War\n",
      "['Avengers: Infinity War', 2018, 0.5450852432788913, 0.8400000000000001, 29.49, 0.85, 30.49, 0.68, 13.49]\n",
      "Star Wars: Episode V - The Empire Strikes Back\n",
      "['Star Wars: Episode V - The Empire Strikes Back', 1980, 0.7187726159456485, 0.8699999999999999, 15.12, 0.94, 22.12, 0.82, 10.12]\n",
      "Once Upon a Time in America\n",
      "['Once Upon a Time in America', 1984, 0.6318226795642297, 0.8400000000000001, 20.82, 0.87, 23.82, nan, nan]\n",
      "Star Wars: Episode VI - Return of the Jedi\n",
      "['Star Wars: Episode VI - Return of the Jedi', 1983, 0.692819407376332, 0.8300000000000001, 13.72, 0.82, 12.72, 0.58, 11.28]\n",
      "The Help\n",
      "['The Help', 2011, 0.4296073851489171, 0.8, 37.04, 0.76, 33.04, 0.62, 19.04]\n",
      "The Pursuit of Happyness\n",
      "['The Pursuit of Happyness', 2006, 0.6975538202548305, 0.8, 10.24, 0.67, 2.76, 0.64, 5.76]\n",
      "Casino\n",
      "['Casino', 1995, 0.32885280717432375, 0.82, 49.11, 0.8, 47.11, 0.73, 40.11]\n",
      "The Notebook\n",
      "['The Notebook', 2004, 0.6136720089714617, 0.78, 16.63, 0.53, 8.37, 0.53, 8.37]\n",
      "Amadeus\n",
      "['Amadeus', 1984, 0.6119257755436714, 0.8300000000000001, 21.81, 0.93, 31.81, 0.88, 26.81]\n",
      "Platoon\n",
      "['Platoon', 1986, 0.5240302336408174, 0.8099999999999999, 28.6, 0.87, 34.6, 0.92, 39.6]\n",
      "Heat\n",
      "['Heat', 1995, 0.428224243108839, 0.82, 39.18, 0.87, 44.18, 0.76, 33.18]\n",
      "Parasite\n",
      "['Parasite', 2019, 0.590458783678469, 0.86, 26.95, 0.98, 38.95, 0.96, 36.95]\n"
     ]
    },
    {
     "ename": "NameError",
     "evalue": "name 'i' is not defined",
     "output_type": "error",
     "traceback": [
      "\u001b[0;31m---------------------------------------------------------------------------\u001b[0m",
      "\u001b[0;31mNameError\u001b[0m                                 Traceback (most recent call last)",
      "\u001b[0;32m<ipython-input-6-b74ca54d8606>\u001b[0m in \u001b[0;36m<module>\u001b[0;34m\u001b[0m\n\u001b[1;32m     98\u001b[0m \u001b[0;32mif\u001b[0m \u001b[0m__name__\u001b[0m \u001b[0;34m==\u001b[0m \u001b[0;34m'__main__'\u001b[0m\u001b[0;34m:\u001b[0m\u001b[0;34m\u001b[0m\u001b[0;34m\u001b[0m\u001b[0m\n\u001b[1;32m     99\u001b[0m     \u001b[0mFinalTest\u001b[0m \u001b[0;34m=\u001b[0m \u001b[0mDataHandling\u001b[0m\u001b[0;34m(\u001b[0m\u001b[0;34m)\u001b[0m\u001b[0;34m\u001b[0m\u001b[0;34m\u001b[0m\u001b[0m\n\u001b[0;32m--> 100\u001b[0;31m     \u001b[0mFinalTest\u001b[0m\u001b[0;34m.\u001b[0m\u001b[0mmeasure_all_movies\u001b[0m\u001b[0;34m(\u001b[0m\u001b[0;34m)\u001b[0m\u001b[0;34m\u001b[0m\u001b[0;34m\u001b[0m\u001b[0m\n\u001b[0m\u001b[1;32m    101\u001b[0m \u001b[0;31m#     test = TestPredictor()\u001b[0m\u001b[0;34m\u001b[0m\u001b[0;34m\u001b[0m\u001b[0;34m\u001b[0m\u001b[0m\n\u001b[1;32m    102\u001b[0m \u001b[0;31m#     test.make_preds()\u001b[0m\u001b[0;34m\u001b[0m\u001b[0;34m\u001b[0m\u001b[0;34m\u001b[0m\u001b[0m\n",
      "\u001b[0;32m<ipython-input-6-b74ca54d8606>\u001b[0m in \u001b[0;36mmeasure_all_movies\u001b[0;34m(self)\u001b[0m\n\u001b[1;32m     92\u001b[0m \u001b[0;31m#         result_df = result_df.append(data_df)\u001b[0m\u001b[0;34m\u001b[0m\u001b[0;34m\u001b[0m\u001b[0;34m\u001b[0m\u001b[0m\n\u001b[1;32m     93\u001b[0m \u001b[0;34m\u001b[0m\u001b[0m\n\u001b[0;32m---> 94\u001b[0;31m         \u001b[0;32mif\u001b[0m \u001b[0mi\u001b[0m \u001b[0;34m%\u001b[0m \u001b[0;36m5\u001b[0m \u001b[0;34m==\u001b[0m \u001b[0;36m0\u001b[0m\u001b[0;34m:\u001b[0m\u001b[0;34m\u001b[0m\u001b[0;34m\u001b[0m\u001b[0m\n\u001b[0m\u001b[1;32m     95\u001b[0m             \u001b[0mdata_df\u001b[0m\u001b[0;34m.\u001b[0m\u001b[0mto_csv\u001b[0m\u001b[0;34m(\u001b[0m\u001b[0;34m'top_50_preds.csv'\u001b[0m\u001b[0;34m,\u001b[0m \u001b[0mmode\u001b[0m\u001b[0;34m=\u001b[0m\u001b[0;34m'a'\u001b[0m\u001b[0;34m)\u001b[0m\u001b[0;34m\u001b[0m\u001b[0;34m\u001b[0m\u001b[0m\n\u001b[1;32m     96\u001b[0m \u001b[0;34m\u001b[0m\u001b[0m\n",
      "\u001b[0;31mNameError\u001b[0m: name 'i' is not defined"
     ]
    }
   ],
   "source": [
    "import numpy as np\n",
    "import pandas as pd\n",
    "from RedditDataPreparation.RedditApiConnector import RedditApiConnector\n",
    "from RedditDataPreparation.DataPreprocessing import DataPreprocesser\n",
    "from Models.FirstCNN import FirstCNN\n",
    "import logging\n",
    "\n",
    "logging.getLogger('tensorflow').setLevel(logging.WARNING)\n",
    "\n",
    "\n",
    "class RedditBasedPredictor:\n",
    "\n",
    "    def __init__(self, name, subreddit='movies'):\n",
    "        self.subreddit = subreddit\n",
    "        self.model = FirstCNN()\n",
    "        self.connector = RedditApiConnector(self.subreddit)\n",
    "        self.data = self.get_data(name)\n",
    "        self.preprocessor = DataPreprocesser(self.data, 'body')\n",
    "\n",
    "    def get_data(self, name):\n",
    "        return self.connector.search_comments(name)\n",
    "\n",
    "    def make_prediction(self):\n",
    "        clean_data = self.preprocessor.full_prepare_data(self.data, 'body')\n",
    "        return self.model.predict_sentiment(clean_data)\n",
    "\n",
    "    # Pomyslec nad wagami takimi zeby wywalalo te z ujemnym scorem\n",
    "    def prepare_avg(self):\n",
    "        preds = self.make_prediction()\n",
    "        weights_reshape = np.reshape(self.data['score'].values, (preds.shape))\n",
    "        return np.average(preds, weights=weights_reshape)\n",
    "\n",
    "class TestPredictor:\n",
    "    def __init__(self):\n",
    "        self.data = pd.read_csv('Data/titles_with_reviews.csv')\n",
    "        self.data['preds'] = np.NaN\n",
    "        self.data['preds_diff'] = np.NaN\n",
    "\n",
    "    def make_preds(self):\n",
    "        for i, movie in enumerate(self.data['original_title']):\n",
    "            try:\n",
    "                predictor = RedditBasedPredictor(movie)\n",
    "                prediction = predictor.prepare_avg()\n",
    "                self.data['preds'].iloc[i] = prediction * 100\n",
    "                self.data['preds_diff'] = np.absolute(self.data['preds']  - self.data['preds'])\n",
    "                print(self.data.iloc[i])\n",
    "                if i % 5 == 0:\n",
    "                    self.data.to_csv('preds.csv', mode='a')\n",
    "            except KeyError:\n",
    "                print('No reddit comments')\n",
    "                \n",
    "class DataHandling:\n",
    "    \n",
    "    def __init__(self):\n",
    "        self.data = self.preparing_data()\n",
    "        \n",
    "    def preparing_data(self):\n",
    "        top50 = pd.read_csv('Data/Filmweb_top50.csv', index_col=0)\n",
    "        top50['imdb'] = (top50['imdb'].str.replace('/10', '').astype(float)) / 10\n",
    "        top50['rottenTomatoes'] = top50['rottenTomatoes'].str.replace('%', '').astype(float) / 100\n",
    "        top50['metacritic'] = top50['metacritic'].str.replace('/100', '').astype(float) / 100\n",
    "\n",
    "        return top50\n",
    "\n",
    "    def measure_one_movie(self, titleFromPrediction):\n",
    "        predictor = RedditBasedPredictor(titleFromPrediction)\n",
    "        resultFromPrediction = predictor.prepare_avg()\n",
    "        \n",
    "        errorIMDB = round(abs((resultFromPrediction - self.data.loc[titleFromPrediction, 'imdb']) * 100), 2)\n",
    "        errorRotten = round(abs((resultFromPrediction - self.data.loc[titleFromPrediction, 'rottenTomatoes']) * 100), 2)\n",
    "        errorMetacritic = round(abs((resultFromPrediction - self.data.loc[titleFromPrediction, 'metacritic']) * 100), 2)\n",
    "\n",
    "        data = [titleFromPrediction, self.data.loc[titleFromPrediction, 'year'], resultFromPrediction,\n",
    "                self.data.loc[titleFromPrediction, 'imdb'], errorIMDB, self.data.loc[titleFromPrediction, 'rottenTomatoes'],\n",
    "                errorRotten, self.data.loc[titleFromPrediction, 'metacritic'], errorMetacritic]\n",
    "        print(data)\n",
    "        return data\n",
    "    \n",
    "\n",
    "    def measure_all_movies(self):\n",
    "    \n",
    "        full_list = []\n",
    "        columns = ['title', 'year', 'prediction', 'imdb', 'errorIMDB', 'rottenTomatoes', 'errorRotten', 'metacritic',\n",
    "                   'errorMetacritic']\n",
    "        data_df = pd.DataFrame(columns=columns)\n",
    "        for i, movie in enumerate(self.data.index):\n",
    "            print(movie)\n",
    "            data_df.loc[len(data_df.index)] = self.measure_one_movie(movie)\n",
    "            if i % 5 == 0:\n",
    "                data_df.to_csv('top_50_preds.csv', mode='a')\n",
    "        \n",
    "#         data_df = data_df.set_index('title')\n",
    "#         result_df = result_df.append(data_df)\n",
    "        \n",
    "\n",
    "    \n",
    "if __name__ == '__main__':\n",
    "    FinalTest = DataHandling()\n",
    "    FinalTest.measure_all_movies()\n",
    "#     test = TestPredictor()\n",
    "#     test.make_preds()\n"
   ]
  },
  {
   "cell_type": "code",
   "execution_count": 16,
   "id": "75f64d7f-fc04-48e3-889b-41c4cff77ee4",
   "metadata": {
    "execution": {
     "iopub.execute_input": "2021-06-20T18:01:56.180468Z",
     "iopub.status.busy": "2021-06-20T18:01:56.179872Z",
     "iopub.status.idle": "2021-06-20T18:01:56.234703Z",
     "shell.execute_reply": "2021-06-20T18:01:56.232145Z",
     "shell.execute_reply.started": "2021-06-20T18:01:56.180412Z"
    },
    "tags": []
   },
   "outputs": [],
   "source": [
    "FinalTest = DataHandling()\n",
    "test_data = FinalTest.preparing_data()\n",
    "        "
   ]
  },
  {
   "cell_type": "code",
   "execution_count": 18,
   "id": "46995236-39f8-401f-946e-5835c90df29a",
   "metadata": {
    "execution": {
     "iopub.execute_input": "2021-06-20T18:02:03.820858Z",
     "iopub.status.busy": "2021-06-20T18:02:03.820345Z",
     "iopub.status.idle": "2021-06-20T18:02:03.827919Z",
     "shell.execute_reply": "2021-06-20T18:02:03.825929Z",
     "shell.execute_reply.started": "2021-06-20T18:02:03.820794Z"
    },
    "tags": []
   },
   "outputs": [],
   "source": [
    "test_data"
   ]
  },
  {
   "cell_type": "code",
   "execution_count": 7,
   "id": "8ef4a302-25e6-4407-9370-c3c1994a2711",
   "metadata": {
    "execution": {
     "iopub.execute_input": "2021-06-20T17:59:33.852398Z",
     "iopub.status.busy": "2021-06-20T17:59:33.852038Z",
     "iopub.status.idle": "2021-06-20T17:59:33.862639Z",
     "shell.execute_reply": "2021-06-20T17:59:33.861453Z",
     "shell.execute_reply.started": "2021-06-20T17:59:33.852366Z"
    },
    "tags": []
   },
   "outputs": [],
   "source": [
    "op50 = pd.read_csv('Data/Filmweb_top50.csv', index_col=0)"
   ]
  },
  {
   "cell_type": "code",
   "execution_count": 12,
   "id": "a257a54d-6100-489a-951a-38a1dd1080db",
   "metadata": {
    "execution": {
     "iopub.execute_input": "2021-06-20T18:00:01.576994Z",
     "iopub.status.busy": "2021-06-20T18:00:01.574891Z",
     "iopub.status.idle": "2021-06-20T18:00:01.597138Z",
     "shell.execute_reply": "2021-06-20T18:00:01.593810Z",
     "shell.execute_reply.started": "2021-06-20T18:00:01.576855Z"
    },
    "tags": []
   },
   "outputs": [
    {
     "data": {
      "text/plain": [
       "Index(['The Shawshank Redemption', 'The Intouchables', 'The Green Mile',\n",
       "       'The Godfather', '12 Angry Men', 'Forrest Gump',\n",
       "       'The Godfather: Part II',\n",
       "       'The Lord of the Rings: The Return of the King', 'Schindler's List',\n",
       "       'Pulp Fiction', 'Se7en', 'Joker',\n",
       "       'The Lord of the Rings: The Two Towers', 'Fight Club', 'Goodfellas',\n",
       "       'The Pianist', 'A Beautiful Mind', 'Inception', 'Django Unchained',\n",
       "       'The Silence of the Lambs', 'The Lion King', 'Scarface', 'Gran Torino',\n",
       "       'Shutter Island', 'Coco', 'American History X', 'Green Book',\n",
       "       'Leon: The Professional', 'Gladiator', 'The Boy in the Striped Pyjamas',\n",
       "       'Saving Private Ryan', 'Braveheart', 'Whiplash', 'Hacksaw Ridge',\n",
       "       'Good Will Hunting', 'Apocalypse Now', 'Scent of a Woman',\n",
       "       'The Prestige', 'Avengers: Infinity War',\n",
       "       'Star Wars: Episode V - The Empire Strikes Back',\n",
       "       'Once Upon a Time in America',\n",
       "       'Star Wars: Episode VI - Return of the Jedi', 'The Help',\n",
       "       'The Pursuit of Happyness', 'Casino', 'The Notebook', 'Amadeus',\n",
       "       'Platoon', 'Heat', 'Parasite'],\n",
       "      dtype='object', name='title')"
      ]
     },
     "execution_count": 12,
     "metadata": {},
     "output_type": "execute_result"
    }
   ],
   "source": [
    "op50.index"
   ]
  },
  {
   "cell_type": "code",
   "execution_count": 9,
   "id": "f1d88155-6913-41a2-8855-a345af791818",
   "metadata": {
    "execution": {
     "iopub.execute_input": "2021-06-18T06:47:58.095878Z",
     "iopub.status.busy": "2021-06-18T06:47:58.095584Z",
     "iopub.status.idle": "2021-06-18T06:47:58.152289Z",
     "shell.execute_reply": "2021-06-18T06:47:58.150573Z",
     "shell.execute_reply.started": "2021-06-18T06:47:58.095850Z"
    },
    "tags": []
   },
   "outputs": [
    {
     "ename": "TypeError",
     "evalue": "unsupported operand type(s) for -: 'str' and 'str'",
     "output_type": "error",
     "traceback": [
      "\u001b[0;31m---------------------------------------------------------------------------\u001b[0m",
      "\u001b[0;31mTypeError\u001b[0m                                 Traceback (most recent call last)",
      "\u001b[0;32m~/anaconda3/lib/python3.8/site-packages/pandas/core/ops/array_ops.py\u001b[0m in \u001b[0;36mna_arithmetic_op\u001b[0;34m(left, right, op, is_cmp)\u001b[0m\n\u001b[1;32m    142\u001b[0m     \u001b[0;32mtry\u001b[0m\u001b[0;34m:\u001b[0m\u001b[0;34m\u001b[0m\u001b[0;34m\u001b[0m\u001b[0m\n\u001b[0;32m--> 143\u001b[0;31m         \u001b[0mresult\u001b[0m \u001b[0;34m=\u001b[0m \u001b[0mexpressions\u001b[0m\u001b[0;34m.\u001b[0m\u001b[0mevaluate\u001b[0m\u001b[0;34m(\u001b[0m\u001b[0mop\u001b[0m\u001b[0;34m,\u001b[0m \u001b[0mleft\u001b[0m\u001b[0;34m,\u001b[0m \u001b[0mright\u001b[0m\u001b[0;34m)\u001b[0m\u001b[0;34m\u001b[0m\u001b[0;34m\u001b[0m\u001b[0m\n\u001b[0m\u001b[1;32m    144\u001b[0m     \u001b[0;32mexcept\u001b[0m \u001b[0mTypeError\u001b[0m\u001b[0;34m:\u001b[0m\u001b[0;34m\u001b[0m\u001b[0;34m\u001b[0m\u001b[0m\n",
      "\u001b[0;32m~/anaconda3/lib/python3.8/site-packages/pandas/core/computation/expressions.py\u001b[0m in \u001b[0;36mevaluate\u001b[0;34m(op, a, b, use_numexpr)\u001b[0m\n\u001b[1;32m    232\u001b[0m         \u001b[0;32mif\u001b[0m \u001b[0muse_numexpr\u001b[0m\u001b[0;34m:\u001b[0m\u001b[0;34m\u001b[0m\u001b[0;34m\u001b[0m\u001b[0m\n\u001b[0;32m--> 233\u001b[0;31m             \u001b[0;32mreturn\u001b[0m \u001b[0m_evaluate\u001b[0m\u001b[0;34m(\u001b[0m\u001b[0mop\u001b[0m\u001b[0;34m,\u001b[0m \u001b[0mop_str\u001b[0m\u001b[0;34m,\u001b[0m \u001b[0ma\u001b[0m\u001b[0;34m,\u001b[0m \u001b[0mb\u001b[0m\u001b[0;34m)\u001b[0m  \u001b[0;31m# type: ignore\u001b[0m\u001b[0;34m\u001b[0m\u001b[0;34m\u001b[0m\u001b[0m\n\u001b[0m\u001b[1;32m    234\u001b[0m     \u001b[0;32mreturn\u001b[0m \u001b[0m_evaluate_standard\u001b[0m\u001b[0;34m(\u001b[0m\u001b[0mop\u001b[0m\u001b[0;34m,\u001b[0m \u001b[0mop_str\u001b[0m\u001b[0;34m,\u001b[0m \u001b[0ma\u001b[0m\u001b[0;34m,\u001b[0m \u001b[0mb\u001b[0m\u001b[0;34m)\u001b[0m\u001b[0;34m\u001b[0m\u001b[0;34m\u001b[0m\u001b[0m\n",
      "\u001b[0;32m~/anaconda3/lib/python3.8/site-packages/pandas/core/computation/expressions.py\u001b[0m in \u001b[0;36m_evaluate_numexpr\u001b[0;34m(op, op_str, a, b)\u001b[0m\n\u001b[1;32m    118\u001b[0m     \u001b[0;32mif\u001b[0m \u001b[0mresult\u001b[0m \u001b[0;32mis\u001b[0m \u001b[0;32mNone\u001b[0m\u001b[0;34m:\u001b[0m\u001b[0;34m\u001b[0m\u001b[0;34m\u001b[0m\u001b[0m\n\u001b[0;32m--> 119\u001b[0;31m         \u001b[0mresult\u001b[0m \u001b[0;34m=\u001b[0m \u001b[0m_evaluate_standard\u001b[0m\u001b[0;34m(\u001b[0m\u001b[0mop\u001b[0m\u001b[0;34m,\u001b[0m \u001b[0mop_str\u001b[0m\u001b[0;34m,\u001b[0m \u001b[0ma\u001b[0m\u001b[0;34m,\u001b[0m \u001b[0mb\u001b[0m\u001b[0;34m)\u001b[0m\u001b[0;34m\u001b[0m\u001b[0;34m\u001b[0m\u001b[0m\n\u001b[0m\u001b[1;32m    120\u001b[0m \u001b[0;34m\u001b[0m\u001b[0m\n",
      "\u001b[0;32m~/anaconda3/lib/python3.8/site-packages/pandas/core/computation/expressions.py\u001b[0m in \u001b[0;36m_evaluate_standard\u001b[0;34m(op, op_str, a, b)\u001b[0m\n\u001b[1;32m     67\u001b[0m     \u001b[0;32mwith\u001b[0m \u001b[0mnp\u001b[0m\u001b[0;34m.\u001b[0m\u001b[0merrstate\u001b[0m\u001b[0;34m(\u001b[0m\u001b[0mall\u001b[0m\u001b[0;34m=\u001b[0m\u001b[0;34m\"ignore\"\u001b[0m\u001b[0;34m)\u001b[0m\u001b[0;34m:\u001b[0m\u001b[0;34m\u001b[0m\u001b[0;34m\u001b[0m\u001b[0m\n\u001b[0;32m---> 68\u001b[0;31m         \u001b[0;32mreturn\u001b[0m \u001b[0mop\u001b[0m\u001b[0;34m(\u001b[0m\u001b[0ma\u001b[0m\u001b[0;34m,\u001b[0m \u001b[0mb\u001b[0m\u001b[0;34m)\u001b[0m\u001b[0;34m\u001b[0m\u001b[0;34m\u001b[0m\u001b[0m\n\u001b[0m\u001b[1;32m     69\u001b[0m \u001b[0;34m\u001b[0m\u001b[0m\n",
      "\u001b[0;31mTypeError\u001b[0m: unsupported operand type(s) for -: 'float' and 'str'",
      "\nDuring handling of the above exception, another exception occurred:\n",
      "\u001b[0;31mTypeError\u001b[0m                                 Traceback (most recent call last)",
      "\u001b[0;32m<ipython-input-9-c6528dbee036>\u001b[0m in \u001b[0;36m<module>\u001b[0;34m\u001b[0m\n\u001b[0;32m----> 1\u001b[0;31m \u001b[0mpreds\u001b[0m\u001b[0;34m[\u001b[0m\u001b[0;34m'preds_diff'\u001b[0m\u001b[0;34m]\u001b[0m \u001b[0;34m=\u001b[0m \u001b[0mpreds\u001b[0m\u001b[0;34m[\u001b[0m\u001b[0;34m'preds'\u001b[0m\u001b[0;34m]\u001b[0m \u001b[0;34m-\u001b[0m \u001b[0mpreds\u001b[0m\u001b[0;34m[\u001b[0m\u001b[0;34m'reviews_from_users'\u001b[0m\u001b[0;34m]\u001b[0m\u001b[0;34m\u001b[0m\u001b[0;34m\u001b[0m\u001b[0m\n\u001b[0m",
      "\u001b[0;32m~/anaconda3/lib/python3.8/site-packages/pandas/core/ops/common.py\u001b[0m in \u001b[0;36mnew_method\u001b[0;34m(self, other)\u001b[0m\n\u001b[1;32m     63\u001b[0m         \u001b[0mother\u001b[0m \u001b[0;34m=\u001b[0m \u001b[0mitem_from_zerodim\u001b[0m\u001b[0;34m(\u001b[0m\u001b[0mother\u001b[0m\u001b[0;34m)\u001b[0m\u001b[0;34m\u001b[0m\u001b[0;34m\u001b[0m\u001b[0m\n\u001b[1;32m     64\u001b[0m \u001b[0;34m\u001b[0m\u001b[0m\n\u001b[0;32m---> 65\u001b[0;31m         \u001b[0;32mreturn\u001b[0m \u001b[0mmethod\u001b[0m\u001b[0;34m(\u001b[0m\u001b[0mself\u001b[0m\u001b[0;34m,\u001b[0m \u001b[0mother\u001b[0m\u001b[0;34m)\u001b[0m\u001b[0;34m\u001b[0m\u001b[0;34m\u001b[0m\u001b[0m\n\u001b[0m\u001b[1;32m     66\u001b[0m \u001b[0;34m\u001b[0m\u001b[0m\n\u001b[1;32m     67\u001b[0m     \u001b[0;32mreturn\u001b[0m \u001b[0mnew_method\u001b[0m\u001b[0;34m\u001b[0m\u001b[0;34m\u001b[0m\u001b[0m\n",
      "\u001b[0;32m~/anaconda3/lib/python3.8/site-packages/pandas/core/ops/__init__.py\u001b[0m in \u001b[0;36mwrapper\u001b[0;34m(left, right)\u001b[0m\n\u001b[1;32m    341\u001b[0m         \u001b[0mlvalues\u001b[0m \u001b[0;34m=\u001b[0m \u001b[0mextract_array\u001b[0m\u001b[0;34m(\u001b[0m\u001b[0mleft\u001b[0m\u001b[0;34m,\u001b[0m \u001b[0mextract_numpy\u001b[0m\u001b[0;34m=\u001b[0m\u001b[0;32mTrue\u001b[0m\u001b[0;34m)\u001b[0m\u001b[0;34m\u001b[0m\u001b[0;34m\u001b[0m\u001b[0m\n\u001b[1;32m    342\u001b[0m         \u001b[0mrvalues\u001b[0m \u001b[0;34m=\u001b[0m \u001b[0mextract_array\u001b[0m\u001b[0;34m(\u001b[0m\u001b[0mright\u001b[0m\u001b[0;34m,\u001b[0m \u001b[0mextract_numpy\u001b[0m\u001b[0;34m=\u001b[0m\u001b[0;32mTrue\u001b[0m\u001b[0;34m)\u001b[0m\u001b[0;34m\u001b[0m\u001b[0;34m\u001b[0m\u001b[0m\n\u001b[0;32m--> 343\u001b[0;31m         \u001b[0mresult\u001b[0m \u001b[0;34m=\u001b[0m \u001b[0marithmetic_op\u001b[0m\u001b[0;34m(\u001b[0m\u001b[0mlvalues\u001b[0m\u001b[0;34m,\u001b[0m \u001b[0mrvalues\u001b[0m\u001b[0;34m,\u001b[0m \u001b[0mop\u001b[0m\u001b[0;34m)\u001b[0m\u001b[0;34m\u001b[0m\u001b[0;34m\u001b[0m\u001b[0m\n\u001b[0m\u001b[1;32m    344\u001b[0m \u001b[0;34m\u001b[0m\u001b[0m\n\u001b[1;32m    345\u001b[0m         \u001b[0;32mreturn\u001b[0m \u001b[0mleft\u001b[0m\u001b[0;34m.\u001b[0m\u001b[0m_construct_result\u001b[0m\u001b[0;34m(\u001b[0m\u001b[0mresult\u001b[0m\u001b[0;34m,\u001b[0m \u001b[0mname\u001b[0m\u001b[0;34m=\u001b[0m\u001b[0mres_name\u001b[0m\u001b[0;34m)\u001b[0m\u001b[0;34m\u001b[0m\u001b[0;34m\u001b[0m\u001b[0m\n",
      "\u001b[0;32m~/anaconda3/lib/python3.8/site-packages/pandas/core/ops/array_ops.py\u001b[0m in \u001b[0;36marithmetic_op\u001b[0;34m(left, right, op)\u001b[0m\n\u001b[1;32m    188\u001b[0m     \u001b[0;32melse\u001b[0m\u001b[0;34m:\u001b[0m\u001b[0;34m\u001b[0m\u001b[0;34m\u001b[0m\u001b[0m\n\u001b[1;32m    189\u001b[0m         \u001b[0;32mwith\u001b[0m \u001b[0mnp\u001b[0m\u001b[0;34m.\u001b[0m\u001b[0merrstate\u001b[0m\u001b[0;34m(\u001b[0m\u001b[0mall\u001b[0m\u001b[0;34m=\u001b[0m\u001b[0;34m\"ignore\"\u001b[0m\u001b[0;34m)\u001b[0m\u001b[0;34m:\u001b[0m\u001b[0;34m\u001b[0m\u001b[0;34m\u001b[0m\u001b[0m\n\u001b[0;32m--> 190\u001b[0;31m             \u001b[0mres_values\u001b[0m \u001b[0;34m=\u001b[0m \u001b[0mna_arithmetic_op\u001b[0m\u001b[0;34m(\u001b[0m\u001b[0mlvalues\u001b[0m\u001b[0;34m,\u001b[0m \u001b[0mrvalues\u001b[0m\u001b[0;34m,\u001b[0m \u001b[0mop\u001b[0m\u001b[0;34m)\u001b[0m\u001b[0;34m\u001b[0m\u001b[0;34m\u001b[0m\u001b[0m\n\u001b[0m\u001b[1;32m    191\u001b[0m \u001b[0;34m\u001b[0m\u001b[0m\n\u001b[1;32m    192\u001b[0m     \u001b[0;32mreturn\u001b[0m \u001b[0mres_values\u001b[0m\u001b[0;34m\u001b[0m\u001b[0;34m\u001b[0m\u001b[0m\n",
      "\u001b[0;32m~/anaconda3/lib/python3.8/site-packages/pandas/core/ops/array_ops.py\u001b[0m in \u001b[0;36mna_arithmetic_op\u001b[0;34m(left, right, op, is_cmp)\u001b[0m\n\u001b[1;32m    148\u001b[0m             \u001b[0;31m#  will handle complex numbers incorrectly, see GH#32047\u001b[0m\u001b[0;34m\u001b[0m\u001b[0;34m\u001b[0m\u001b[0;34m\u001b[0m\u001b[0m\n\u001b[1;32m    149\u001b[0m             \u001b[0;32mraise\u001b[0m\u001b[0;34m\u001b[0m\u001b[0;34m\u001b[0m\u001b[0m\n\u001b[0;32m--> 150\u001b[0;31m         \u001b[0mresult\u001b[0m \u001b[0;34m=\u001b[0m \u001b[0mmasked_arith_op\u001b[0m\u001b[0;34m(\u001b[0m\u001b[0mleft\u001b[0m\u001b[0;34m,\u001b[0m \u001b[0mright\u001b[0m\u001b[0;34m,\u001b[0m \u001b[0mop\u001b[0m\u001b[0;34m)\u001b[0m\u001b[0;34m\u001b[0m\u001b[0;34m\u001b[0m\u001b[0m\n\u001b[0m\u001b[1;32m    151\u001b[0m \u001b[0;34m\u001b[0m\u001b[0m\n\u001b[1;32m    152\u001b[0m     \u001b[0;32mif\u001b[0m \u001b[0mis_cmp\u001b[0m \u001b[0;32mand\u001b[0m \u001b[0;34m(\u001b[0m\u001b[0mis_scalar\u001b[0m\u001b[0;34m(\u001b[0m\u001b[0mresult\u001b[0m\u001b[0;34m)\u001b[0m \u001b[0;32mor\u001b[0m \u001b[0mresult\u001b[0m \u001b[0;32mis\u001b[0m \u001b[0mNotImplemented\u001b[0m\u001b[0;34m)\u001b[0m\u001b[0;34m:\u001b[0m\u001b[0;34m\u001b[0m\u001b[0;34m\u001b[0m\u001b[0m\n",
      "\u001b[0;32m~/anaconda3/lib/python3.8/site-packages/pandas/core/ops/array_ops.py\u001b[0m in \u001b[0;36mmasked_arith_op\u001b[0;34m(x, y, op)\u001b[0m\n\u001b[1;32m     90\u001b[0m         \u001b[0;32mif\u001b[0m \u001b[0mmask\u001b[0m\u001b[0;34m.\u001b[0m\u001b[0many\u001b[0m\u001b[0;34m(\u001b[0m\u001b[0;34m)\u001b[0m\u001b[0;34m:\u001b[0m\u001b[0;34m\u001b[0m\u001b[0;34m\u001b[0m\u001b[0m\n\u001b[1;32m     91\u001b[0m             \u001b[0;32mwith\u001b[0m \u001b[0mnp\u001b[0m\u001b[0;34m.\u001b[0m\u001b[0merrstate\u001b[0m\u001b[0;34m(\u001b[0m\u001b[0mall\u001b[0m\u001b[0;34m=\u001b[0m\u001b[0;34m\"ignore\"\u001b[0m\u001b[0;34m)\u001b[0m\u001b[0;34m:\u001b[0m\u001b[0;34m\u001b[0m\u001b[0;34m\u001b[0m\u001b[0m\n\u001b[0;32m---> 92\u001b[0;31m                 \u001b[0mresult\u001b[0m\u001b[0;34m[\u001b[0m\u001b[0mmask\u001b[0m\u001b[0;34m]\u001b[0m \u001b[0;34m=\u001b[0m \u001b[0mop\u001b[0m\u001b[0;34m(\u001b[0m\u001b[0mxrav\u001b[0m\u001b[0;34m[\u001b[0m\u001b[0mmask\u001b[0m\u001b[0;34m]\u001b[0m\u001b[0;34m,\u001b[0m \u001b[0myrav\u001b[0m\u001b[0;34m[\u001b[0m\u001b[0mmask\u001b[0m\u001b[0;34m]\u001b[0m\u001b[0;34m)\u001b[0m\u001b[0;34m\u001b[0m\u001b[0;34m\u001b[0m\u001b[0m\n\u001b[0m\u001b[1;32m     93\u001b[0m \u001b[0;34m\u001b[0m\u001b[0m\n\u001b[1;32m     94\u001b[0m     \u001b[0;32melse\u001b[0m\u001b[0;34m:\u001b[0m\u001b[0;34m\u001b[0m\u001b[0;34m\u001b[0m\u001b[0m\n",
      "\u001b[0;31mTypeError\u001b[0m: unsupported operand type(s) for -: 'str' and 'str'"
     ]
    }
   ],
   "source": [
    "preds['preds_diff'] = preds['preds'] - preds['reviews_from_users']"
   ]
  },
  {
   "cell_type": "code",
   "execution_count": 10,
   "id": "faff2d7e-bb5d-4444-bb93-de87c897899c",
   "metadata": {
    "execution": {
     "iopub.execute_input": "2021-06-18T06:48:10.228372Z",
     "iopub.status.busy": "2021-06-18T06:48:10.227217Z",
     "iopub.status.idle": "2021-06-18T06:48:10.246500Z",
     "shell.execute_reply": "2021-06-18T06:48:10.244425Z",
     "shell.execute_reply.started": "2021-06-18T06:48:10.228281Z"
    }
   },
   "outputs": [
    {
     "data": {
      "text/plain": [
       "nan"
      ]
     },
     "execution_count": 10,
     "metadata": {},
     "output_type": "execute_result"
    }
   ],
   "source": [
    "np.NaN - 1"
   ]
  },
  {
   "cell_type": "code",
   "execution_count": null,
   "id": "f1fc907f-b3aa-4494-93a5-28e67a1ea6e9",
   "metadata": {},
   "outputs": [],
   "source": []
  }
 ],
 "metadata": {
  "kernelspec": {
   "display_name": "Python 3",
   "language": "python",
   "name": "python3"
  },
  "language_info": {
   "codemirror_mode": {
    "name": "ipython",
    "version": 3
   },
   "file_extension": ".py",
   "mimetype": "text/x-python",
   "name": "python",
   "nbconvert_exporter": "python",
   "pygments_lexer": "ipython3",
   "version": "3.8.5"
  }
 },
 "nbformat": 4,
 "nbformat_minor": 5
}
